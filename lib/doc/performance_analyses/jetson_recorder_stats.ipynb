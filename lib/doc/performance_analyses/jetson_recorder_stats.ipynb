{
 "cells": [
  {
   "cell_type": "code",
   "execution_count": 5,
   "metadata": {
    "collapsed": true
   },
   "outputs": [],
   "source": [
    "%matplotlib inline\n",
    "import pandas as pd\n",
    "import numpy as np\n",
    "import matplotlib.pyplot as plt"
   ]
  },
  {
   "cell_type": "code",
   "execution_count": 6,
   "metadata": {
    "collapsed": false
   },
   "outputs": [
    {
     "data": {
      "text/plain": [
       "resolution     object\n",
       "nom_fps         int64\n",
       "display          bool\n",
       "num_frames      int64\n",
       "duration      float64\n",
       "filesize      float64\n",
       "dtype: object"
      ]
     },
     "execution_count": 6,
     "metadata": {},
     "output_type": "execute_result"
    }
   ],
   "source": [
    "data = pd.read_csv('jetson_recorder_stats.csv', names=['resolution','nom_fps','display','num_frames','duration','filesize',])\n",
    "#data.rename(columns={\"# system_time_sec\":\"system_time_sec\"}, inplace=True )\n",
    "data['display'] = data['display'] == \"display\"\n",
    "data.dtypes"
   ]
  },
  {
   "cell_type": "code",
   "execution_count": 7,
   "metadata": {
    "collapsed": false
   },
   "outputs": [],
   "source": [
    "hd1080 = data[ data['resolution'] == 'HD1080' ]\n",
    "hd1080_gui = hd1080[ hd1080['display'] == True ]\n",
    "hd1080_nogui = hd1080[ hd1080['display'] == False ]\n",
    "\n",
    "hd720 = data[ data['resolution'] == 'HD720' ]\n",
    "hd720_gui = hd720[ hd720['display'] == True ]\n",
    "hd720_nogui = hd720[ hd720['display'] == False ]\n",
    "\n",
    "vga = data[ data['resolution'] == 'VGA' ]\n",
    "vga_gui = vga[ vga['display'] == True ]\n",
    "vga_nogui = vga[ vga['display'] == False ]"
   ]
  },
  {
   "cell_type": "code",
   "execution_count": 8,
   "metadata": {
    "collapsed": false
   },
   "outputs": [
    {
     "name": "stdout",
     "output_type": "stream",
     "text": [
      "<tr><td> HD1080 </td><td> -- </td><td> 15.0 </td><td> 12.7063563011 </td><td> 735.6467 </td><td> 71.7925428718 </td><td> 5.65012826421 </td></tr>\n",
      "<tr><td> HD1080 </td><td> VNC </td><td> 15.0 </td><td> 11.1310442493 </td><td> 775.1976 </td><td> 75.294579298 </td><td> 6.76437696335 </td></tr>\n",
      "<tr><td> HD720 </td><td> -- </td><td> 30.0 </td><td> 26.0903853965 </td><td> 724.575 </td><td> 71.6077310556 </td><td> 2.74460227273 </td></tr>\n",
      "<tr><td> HD720 </td><td> VNC </td><td> 30.0 </td><td> 22.7924848302 </td><td> 745.3174 </td><td> 72.8145543644 </td><td> 3.19467381054 </td></tr>\n",
      "<tr><td> VGA </td><td> -- </td><td> 60.0 </td><td> 52.2519096223 </td><td> 560.81165 </td><td> 55.3993376518 </td><td> 1.06023565554 </td></tr>\n",
      "<tr><td> VGA </td><td> VNC </td><td> 60.0 </td><td> 53.5902394152 </td><td> 583.1363 </td><td> 57.6788739917 </td><td> 1.07629438907 </td></tr>\n"
     ]
    }
   ],
   "source": [
    "for c in [hd1080_nogui, hd1080_gui, hd720_nogui, hd720_gui, vga, vga_gui]:\n",
    "    m = c.mean(0)\n",
    "    m.resolution = c['resolution'].head(1).values[0]\n",
    "    print(\"<tr><td>\",\n",
    "          m.resolution,\"</td><td>\",\n",
    "          (\"VNC\" if m.display == 1 else \"--\"),\"</td><td>\",\n",
    "          m.nom_fps,\"</td><td>\",\n",
    "          m.num_frames/m.duration,\"</td><td>\",\n",
    "          m.filesize,\"</td><td>\",\n",
    "          m.filesize/m.duration,\"</td><td>\",\n",
    "          m.filesize/m.num_frames,\"</td></tr>\" )"
   ]
  },
  {
   "cell_type": "code",
   "execution_count": null,
   "metadata": {
    "collapsed": true
   },
   "outputs": [],
   "source": []
  }
 ],
 "metadata": {
  "kernelspec": {
   "display_name": "Python 3",
   "language": "python",
   "name": "python3"
  },
  "language_info": {
   "codemirror_mode": {
    "name": "ipython",
    "version": 3
   },
   "file_extension": ".py",
   "mimetype": "text/x-python",
   "name": "python",
   "nbconvert_exporter": "python",
   "pygments_lexer": "ipython3",
   "version": "3.5.1"
  }
 },
 "nbformat": 4,
 "nbformat_minor": 0
}
